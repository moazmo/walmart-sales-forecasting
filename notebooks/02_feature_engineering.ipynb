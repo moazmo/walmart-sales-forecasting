{
 "cells": [
  {
   "cell_type": "markdown",
   "metadata": {},
   "source": [
    "# Walmart Sales Forecasting - Feature Engineering\n",
    "\n",
    "## Overview\n",
    "This notebook focuses on data preprocessing and advanced feature engineering for the Walmart Sales dataset:\n",
    "- Data cleaning and preprocessing\n",
    "- Time-based feature creation\n",
    "- Lag and rolling window features\n",
    "- External feature engineering\n",
    "- Store and department features\n",
    "- Holiday and seasonal features\n",
    "\n",
    "## Feature Engineering Strategy\n",
    "1. **Temporal Features**: Day, week, month, quarter, year, holidays\n",
    "2. **Lag Features**: Sales from previous weeks (1, 2, 4, 8, 12 weeks)\n",
    "3. **Rolling Statistics**: Moving averages, std, min, max over different windows\n",
    "4. **Store Features**: Size, type, historical performance\n",
    "5. **Department Features**: Category performance, seasonality\n",
    "6. **External Features**: Economic indicators, weather, fuel prices\n",
    "7. **Interaction Features**: Store-department combinations, seasonal interactions"
   ]
  },
  {
   "cell_type": "code",
   "execution_count": 20,
   "metadata": {},
   "outputs": [
    {
     "name": "stdout",
     "output_type": "stream",
     "text": [
      "Libraries and project modules imported successfully!\n"
     ]
    }
   ],
   "source": [
    "# Import required libraries\n",
    "import pandas as pd\n",
    "import numpy as np\n",
    "import matplotlib.pyplot as plt\n",
    "import seaborn as sns\n",
    "from datetime import datetime, timedelta\n",
    "import warnings\n",
    "from sklearn.preprocessing import StandardScaler, LabelEncoder\n",
    "from sklearn.impute import SimpleImputer\n",
    "import os\n",
    "import sys\n",
    "from pathlib import Path\n",
    "\n",
    "# Add project src to path\n",
    "sys.path.append(str(Path('../src').resolve()))\n",
    "\n",
    "# Import project modules\n",
    "from data.data_loader import DataLoader\n",
    "from utils.config import (\n",
    "    PROCESSED_DATA_DIR, FEATURE_CONFIG, MODEL_CONFIG\n",
    ")\n",
    "from utils.logger import get_project_logger\n",
    "\n",
    "# Configure settings\n",
    "warnings.filterwarnings('ignore')\n",
    "pd.set_option('display.max_columns', None)\n",
    "pd.set_option('display.max_rows', 100)\n",
    "\n",
    "# Initialize logger\n",
    "logger = get_project_logger('feature_engineering')\n",
    "\n",
    "print(\"Libraries and project modules imported successfully!\")"
   ]
  },
  {
   "cell_type": "markdown",
   "metadata": {},
   "source": [
    "## 1. Data Loading and Initial Preprocessing"
   ]
  },
  {
   "cell_type": "code",
   "execution_count": 21,
   "metadata": {},
   "outputs": [
    {
     "name": "stdout",
     "output_type": "stream",
     "text": [
      "Loading datasets...\n",
      "2025-08-07 18:05:32 - sales_forecasting.data_loader - INFO - Loading raw datasets...\n",
      "2025-08-07 18:05:32 - sales_forecasting.data_loader - INFO - Raw data loaded successfully:\n",
      "2025-08-07 18:05:32 - sales_forecasting.data_loader - INFO -   Train: (421570, 5)\n",
      "2025-08-07 18:05:32 - sales_forecasting.data_loader - INFO -   Test: (115064, 4)\n",
      "2025-08-07 18:05:32 - sales_forecasting.data_loader - INFO -   Features: (8190, 12)\n",
      "2025-08-07 18:05:32 - sales_forecasting.data_loader - INFO -   Stores: (45, 3)\n",
      "2025-08-07 18:05:32 - sales_forecasting.feature_engineering - INFO - Data loaded successfully using DataLoader\n",
      "Train shape: (421570, 5)\n",
      "Features shape: (8190, 12)\n",
      "Stores shape: (45, 3)\n",
      "Test shape: (115064, 4)\n",
      "\n",
      "Train date range: 2010-02-05 00:00:00 to 2012-10-26 00:00:00\n",
      "Test date range: 2012-11-02 00:00:00 to 2013-07-26 00:00:00\n"
     ]
    }
   ],
   "source": [
    "# Load datasets using our professional data loader\n",
    "print(\"Loading datasets...\")\n",
    "try:\n",
    "    # Use DataLoader class for professional data loading\n",
    "    loader = DataLoader()\n",
    "    train_df, test_df, features_df, stores_df = loader.load_raw_data()\n",
    "    logger.info('Data loaded successfully using DataLoader')\n",
    "except (ImportError, NameError):\n",
    "    # Fallback to direct loading if imports fail in notebook environment\n",
    "    print('Using direct CSV loading...')\n",
    "    train_df = pd.read_csv('../data/raw/train.csv')\n",
    "    features_df = pd.read_csv('../data/raw/features.csv')\n",
    "    stores_df = pd.read_csv('../data/raw/stores.csv')\n",
    "    test_df = pd.read_csv('../data/raw/test.csv')\n",
    "    \n",
    "    # Convert date columns\n",
    "    train_df['Date'] = pd.to_datetime(train_df['Date'])\n",
    "    features_df['Date'] = pd.to_datetime(features_df['Date'])\n",
    "    test_df['Date'] = pd.to_datetime(test_df['Date'])\n",
    "\n",
    "print(f\"Train shape: {train_df.shape}\")\n",
    "print(f\"Features shape: {features_df.shape}\")\n",
    "print(f\"Stores shape: {stores_df.shape}\")\n",
    "print(f\"Test shape: {test_df.shape}\")\n",
    "\n",
    "# Date ranges\n",
    "print(f\"\\nTrain date range: {train_df['Date'].min()} to {train_df['Date'].max()}\")\n",
    "print(f\"Test date range: {test_df['Date'].min()} to {test_df['Date'].max()}\")"
   ]
  },
  {
   "cell_type": "code",
   "execution_count": 22,
   "metadata": {},
   "outputs": [
    {
     "name": "stdout",
     "output_type": "stream",
     "text": [
      "Merging datasets...\n",
      "After merging with stores: (421570, 7)\n",
      "After merging with features: (421570, 17)\n",
      "\n",
      "Missing values after merge:\n",
      "           Missing_Count  Missing_Pct\n",
      "MarkDown2         310322    73.611025\n",
      "MarkDown4         286603    67.984676\n",
      "MarkDown3         284479    67.480845\n",
      "MarkDown1         270889    64.257181\n",
      "MarkDown5         270138    64.079038\n"
     ]
    }
   ],
   "source": [
    "# Merge datasets\n",
    "print(\"Merging datasets...\")\n",
    "\n",
    "# Merge train with stores\n",
    "train_merged = train_df.merge(stores_df, on='Store', how='left')\n",
    "print(f\"After merging with stores: {train_merged.shape}\")\n",
    "\n",
    "# Merge with features\n",
    "train_merged = train_merged.merge(features_df, on=['Store', 'Date'], how='left')\n",
    "print(f\"After merging with features: {train_merged.shape}\")\n",
    "\n",
    "# Check merge quality\n",
    "print(f\"\\nMissing values after merge:\")\n",
    "missing_counts = train_merged.isnull().sum()\n",
    "missing_pct = (missing_counts / len(train_merged)) * 100\n",
    "missing_df = pd.DataFrame({\n",
    "    'Missing_Count': missing_counts,\n",
    "    'Missing_Pct': missing_pct\n",
    "})\n",
    "print(missing_df[missing_df['Missing_Count'] > 0].sort_values('Missing_Count', ascending=False))"
   ]
  },
  {
   "cell_type": "markdown",
   "metadata": {},
   "source": [
    "## 2. Data Cleaning and Preprocessing"
   ]
  },
  {
   "cell_type": "code",
   "execution_count": 23,
   "metadata": {},
   "outputs": [
    {
     "name": "stdout",
     "output_type": "stream",
     "text": [
      "Handling missing values...\n",
      "Filled MarkDown1 missing values with 0\n",
      "Filled MarkDown2 missing values with 0\n",
      "Filled MarkDown3 missing values with 0\n",
      "Filled MarkDown4 missing values with 0\n",
      "Filled MarkDown5 missing values with 0\n",
      "\n",
      "Missing values after cleaning: 0\n"
     ]
    }
   ],
   "source": [
    "# Handle missing values\n",
    "print(\"Handling missing values...\")\n",
    "\n",
    "# For markdown columns, fill with 0 (no markdown)\n",
    "markdown_cols = ['MarkDown1', 'MarkDown2', 'MarkDown3', 'MarkDown4', 'MarkDown5']\n",
    "for col in markdown_cols:\n",
    "    if col in train_merged.columns:\n",
    "        train_merged[col] = train_merged[col].fillna(0)\n",
    "        print(f\"Filled {col} missing values with 0\")\n",
    "\n",
    "# For other numerical features, use forward fill then backward fill\n",
    "numerical_cols = ['Temperature', 'Fuel_Price', 'CPI', 'Unemployment']\n",
    "for col in numerical_cols:\n",
    "    if col in train_merged.columns:\n",
    "        # Group by store and forward/backward fill\n",
    "        train_merged[col] = train_merged.groupby('Store')[col].fillna(method='ffill').fillna(method='bfill')\n",
    "        \n",
    "        # If still missing, fill with median\n",
    "        if train_merged[col].isnull().sum() > 0:\n",
    "            median_val = train_merged[col].median()\n",
    "            train_merged[col] = train_merged[col].fillna(median_val)\n",
    "            print(f\"Filled remaining {col} missing values with median: {median_val:.2f}\")\n",
    "\n",
    "print(f\"\\nMissing values after cleaning: {train_merged.isnull().sum().sum()}\")"
   ]
  },
  {
   "cell_type": "code",
   "execution_count": 24,
   "metadata": {},
   "outputs": [
    {
     "name": "stdout",
     "output_type": "stream",
     "text": [
      "Handling negative sales and outliers...\n",
      "Negative sales records: 1285 (0.30%)\n",
      "Negative sales range: $-4,988.94 to $-0.02\n",
      "Keeping negative sales as they represent returns/refunds\n",
      "\n",
      "Extreme positive outliers (>3σ): 8848 (2.10%)\n",
      "Outlier range: $84,118.68 to $693,099.36\n",
      "Keeping outliers for now - they may represent legitimate high sales periods\n"
     ]
    }
   ],
   "source": [
    "# Handle negative sales and outliers\n",
    "print(\"Handling negative sales and outliers...\")\n",
    "\n",
    "# Analyze negative sales\n",
    "negative_sales = train_merged[train_merged['Weekly_Sales'] < 0]\n",
    "print(f\"Negative sales records: {len(negative_sales)} ({len(negative_sales)/len(train_merged)*100:.2f}%)\")\n",
    "\n",
    "if len(negative_sales) > 0:\n",
    "    print(f\"Negative sales range: ${negative_sales['Weekly_Sales'].min():,.2f} to ${negative_sales['Weekly_Sales'].max():,.2f}\")\n",
    "    \n",
    "    # Option 1: Keep negative sales as they represent returns/refunds\n",
    "    # Option 2: Set to 0 or remove\n",
    "    # For now, we'll keep them as they're business reality\n",
    "    print(\"Keeping negative sales as they represent returns/refunds\")\n",
    "\n",
    "# Identify extreme outliers (beyond 3 standard deviations)\n",
    "sales_mean = train_merged['Weekly_Sales'].mean()\n",
    "sales_std = train_merged['Weekly_Sales'].std()\n",
    "outlier_threshold = sales_mean + 3 * sales_std\n",
    "\n",
    "outliers = train_merged[train_merged['Weekly_Sales'] > outlier_threshold]\n",
    "print(f\"\\nExtreme positive outliers (>3σ): {len(outliers)} ({len(outliers)/len(train_merged)*100:.2f}%)\")\n",
    "if len(outliers) > 0:\n",
    "    print(f\"Outlier range: ${outliers['Weekly_Sales'].min():,.2f} to ${outliers['Weekly_Sales'].max():,.2f}\")\n",
    "    print(\"Keeping outliers for now - they may represent legitimate high sales periods\")"
   ]
  },
  {
   "cell_type": "markdown",
   "metadata": {},
   "source": [
    "## 3. Temporal Feature Engineering"
   ]
  },
  {
   "cell_type": "code",
   "execution_count": 25,
   "metadata": {},
   "outputs": [
    {
     "name": "stdout",
     "output_type": "stream",
     "text": [
      "Creating temporal features...\n",
      "Created temporal features. Dataset shape: (421570, 28)\n",
      "New temporal columns: ['Weekly_Sales', 'IsHoliday_x', 'IsHoliday_y', 'Year', 'Month', 'Week', 'DayOfYear', 'Quarter', 'WeekOfYear', 'Month_sin', 'Month_cos', 'Week_sin', 'Week_cos', 'Days_Since_Start']\n"
     ]
    }
   ],
   "source": [
    "# Create comprehensive temporal features\n",
    "print(\"Creating temporal features...\")\n",
    "\n",
    "# Basic time features\n",
    "train_merged['Year'] = train_merged['Date'].dt.year\n",
    "train_merged['Month'] = train_merged['Date'].dt.month\n",
    "train_merged['Week'] = train_merged['Date'].dt.isocalendar().week\n",
    "train_merged['DayOfYear'] = train_merged['Date'].dt.dayofyear\n",
    "train_merged['Quarter'] = train_merged['Date'].dt.quarter\n",
    "train_merged['WeekOfYear'] = train_merged['Date'].dt.isocalendar().week\n",
    "\n",
    "# Cyclical features (sine/cosine encoding for periodicity)\n",
    "train_merged['Month_sin'] = np.sin(2 * np.pi * train_merged['Month'] / 12)\n",
    "train_merged['Month_cos'] = np.cos(2 * np.pi * train_merged['Month'] / 12)\n",
    "train_merged['Week_sin'] = np.sin(2 * np.pi * train_merged['WeekOfYear'] / 52)\n",
    "train_merged['Week_cos'] = np.cos(2 * np.pi * train_merged['WeekOfYear'] / 52)\n",
    "\n",
    "# Days since start of dataset\n",
    "start_date = train_merged['Date'].min()\n",
    "train_merged['Days_Since_Start'] = (train_merged['Date'] - start_date).dt.days\n",
    "\n",
    "print(f\"Created temporal features. Dataset shape: {train_merged.shape}\")\n",
    "print(f\"New temporal columns: {[col for col in train_merged.columns if any(x in col.lower() for x in ['year', 'month', 'week', 'quarter', 'day', 'sin', 'cos'])]}\")"
   ]
  },
  {
   "cell_type": "code",
   "execution_count": 26,
   "metadata": {},
   "outputs": [
    {
     "name": "stdout",
     "output_type": "stream",
     "text": [
      "Creating holiday and special event features...\n",
      "Holiday features created. Holiday type distribution:\n",
      "Holiday_Type\n",
      "Regular         371234\n",
      "Christmas        11929\n",
      "Valentine         8895\n",
      "LaborDay          8841\n",
      "July4th           8809\n",
      "Thanksgiving      5959\n",
      "NewYear           5903\n",
      "Name: count, dtype: int64\n"
     ]
    }
   ],
   "source": [
    "# Holiday and special event features\n",
    "print(\"Creating holiday and special event features...\")\n",
    "\n",
    "# Enhanced holiday features\n",
    "train_merged['IsHoliday_int'] = train_merged['IsHoliday_x'].astype(int)\n",
    "\n",
    "# Identify specific holidays based on dates\n",
    "def identify_holidays(date):\n",
    "    \"\"\"Identify specific holidays based on date\"\"\"\n",
    "    month = date.month\n",
    "    day = date.day\n",
    "    \n",
    "    # Major US holidays that affect retail\n",
    "    if month == 11 and day >= 22 and day <= 28:  # Thanksgiving week\n",
    "        return 'Thanksgiving'\n",
    "    elif month == 12 and day >= 20:  # Christmas season\n",
    "        return 'Christmas'\n",
    "    elif month == 1 and day <= 7:  # New Year\n",
    "        return 'NewYear'\n",
    "    elif month == 2 and day >= 10 and day <= 16:  # Valentine's Day week\n",
    "        return 'Valentine'\n",
    "    elif month == 7 and day >= 1 and day <= 7:  # Independence Day\n",
    "        return 'July4th'\n",
    "    elif month == 9 and day >= 1 and day <= 7:  # Labor Day\n",
    "        return 'LaborDay'\n",
    "    else:\n",
    "        return 'Regular'\n",
    "\n",
    "train_merged['Holiday_Type'] = train_merged['Date'].apply(identify_holidays)\n",
    "\n",
    "# Days to/from major holidays\n",
    "def days_to_holiday(date, holiday_month, holiday_day_range):\n",
    "    \"\"\"Calculate days to nearest holiday\"\"\"\n",
    "    year = date.year\n",
    "    holiday_date = datetime(year, holiday_month, holiday_day_range[0])\n",
    "    \n",
    "    # Check current year and next year\n",
    "    days_to = (holiday_date - date).days\n",
    "    if days_to < -30:  # If holiday passed, check next year\n",
    "        holiday_date = datetime(year + 1, holiday_month, holiday_day_range[0])\n",
    "        days_to = (holiday_date - date).days\n",
    "    \n",
    "    return days_to\n",
    "\n",
    "# Days to Christmas\n",
    "train_merged['Days_To_Christmas'] = train_merged['Date'].apply(\n",
    "    lambda x: days_to_holiday(x, 12, [25])\n",
    ")\n",
    "\n",
    "# Days to Thanksgiving (4th Thursday of November - approximate as Nov 25)\n",
    "train_merged['Days_To_Thanksgiving'] = train_merged['Date'].apply(\n",
    "    lambda x: days_to_holiday(x, 11, [25])\n",
    ")\n",
    "\n",
    "print(f\"Holiday features created. Holiday type distribution:\")\n",
    "print(train_merged['Holiday_Type'].value_counts())"
   ]
  },
  {
   "cell_type": "markdown",
   "metadata": {},
   "source": [
    "## 4. Lag Features and Rolling Statistics"
   ]
  },
  {
   "cell_type": "code",
   "execution_count": 27,
   "metadata": {},
   "outputs": [
    {
     "name": "stdout",
     "output_type": "stream",
     "text": [
      "Creating lag features and rolling statistics...\n",
      "Creating lag features for periods: [1, 2, 4, 8, 12, 26]\n",
      "Creating rolling statistics for windows: [4, 8, 12, 26]\n",
      "Creating lag 1 features...\n",
      "Creating lag 2 features...\n",
      "Creating lag 4 features...\n",
      "Creating lag 8 features...\n",
      "Creating lag 12 features...\n",
      "Creating lag 26 features...\n",
      "Lag features created. Dataset shape: (421570, 44)\n"
     ]
    }
   ],
   "source": [
    "# Sort data for lag feature creation\n",
    "print(\"Creating lag features and rolling statistics...\")\n",
    "train_merged = train_merged.sort_values(['Store', 'Dept', 'Date']).reset_index(drop=True)\n",
    "\n",
    "# Define lag periods (in weeks)\n",
    "lag_periods = [1, 2, 4, 8, 12, 26]  # 1 week to 6 months\n",
    "rolling_windows = [4, 8, 12, 26]    # 1 month to 6 months\n",
    "\n",
    "print(f\"Creating lag features for periods: {lag_periods}\")\n",
    "print(f\"Creating rolling statistics for windows: {rolling_windows}\")\n",
    "\n",
    "# Create lag features\n",
    "for lag in lag_periods:\n",
    "    print(f\"Creating lag {lag} features...\")\n",
    "    \n",
    "    # Sales lag\n",
    "    train_merged[f'Sales_Lag_{lag}'] = train_merged.groupby(['Store', 'Dept'])['Weekly_Sales'].shift(lag)\n",
    "    \n",
    "    # Store-level sales lag (aggregated across departments)\n",
    "    store_sales = train_merged.groupby(['Store', 'Date'])['Weekly_Sales'].sum().reset_index()\n",
    "    store_sales = store_sales.sort_values(['Store', 'Date'])\n",
    "    store_sales[f'Store_Sales_Lag_{lag}'] = store_sales.groupby('Store')['Weekly_Sales'].shift(lag)\n",
    "    \n",
    "    # Merge back\n",
    "    train_merged = train_merged.merge(\n",
    "        store_sales[['Store', 'Date', f'Store_Sales_Lag_{lag}']], \n",
    "        on=['Store', 'Date'], \n",
    "        how='left'\n",
    "    )\n",
    "\n",
    "print(f\"Lag features created. Dataset shape: {train_merged.shape}\")"
   ]
  },
  {
   "cell_type": "code",
   "execution_count": 28,
   "metadata": {},
   "outputs": [
    {
     "name": "stdout",
     "output_type": "stream",
     "text": [
      "Creating rolling statistics for window 4...\n",
      "Creating rolling statistics for window 8...\n",
      "Creating rolling statistics for window 12...\n",
      "Creating rolling statistics for window 26...\n",
      "Rolling statistics created. Dataset shape: (421570, 64)\n"
     ]
    }
   ],
   "source": [
    "# Create rolling statistics\n",
    "for window in rolling_windows:\n",
    "    print(f\"Creating rolling statistics for window {window}...\")\n",
    "    \n",
    "    # Rolling mean\n",
    "    train_merged[f'Sales_Rolling_Mean_{window}'] = train_merged.groupby(['Store', 'Dept'])['Weekly_Sales'].transform(\n",
    "        lambda x: x.rolling(window=window, min_periods=1).mean()\n",
    "    )\n",
    "    \n",
    "    # Rolling standard deviation\n",
    "    train_merged[f'Sales_Rolling_Std_{window}'] = train_merged.groupby(['Store', 'Dept'])['Weekly_Sales'].transform(\n",
    "        lambda x: x.rolling(window=window, min_periods=1).std()\n",
    "    )\n",
    "    \n",
    "    # Rolling min and max\n",
    "    train_merged[f'Sales_Rolling_Min_{window}'] = train_merged.groupby(['Store', 'Dept'])['Weekly_Sales'].transform(\n",
    "        lambda x: x.rolling(window=window, min_periods=1).min()\n",
    "    )\n",
    "    \n",
    "    train_merged[f'Sales_Rolling_Max_{window}'] = train_merged.groupby(['Store', 'Dept'])['Weekly_Sales'].transform(\n",
    "        lambda x: x.rolling(window=window, min_periods=1).max()\n",
    "    )\n",
    "    \n",
    "    # Exponential weighted moving average\n",
    "    train_merged[f'Sales_EWM_{window}'] = train_merged.groupby(['Store', 'Dept'])['Weekly_Sales'].transform(\n",
    "        lambda x: x.ewm(span=window).mean()\n",
    "    )\n",
    "\n",
    "print(f\"Rolling statistics created. Dataset shape: {train_merged.shape}\")"
   ]
  },
  {
   "cell_type": "markdown",
   "metadata": {},
   "source": [
    "## 5. Store and Department Features"
   ]
  },
  {
   "cell_type": "code",
   "execution_count": 29,
   "metadata": {},
   "outputs": [
    {
     "name": "stdout",
     "output_type": "stream",
     "text": [
      "Creating store and department features...\n",
      "Store features created. Dataset shape: (421570, 68)\n"
     ]
    }
   ],
   "source": [
    "# Store-level features\n",
    "print(\"Creating store and department features...\")\n",
    "\n",
    "# Store performance metrics\n",
    "store_stats = train_merged.groupby('Store')['Weekly_Sales'].agg([\n",
    "    'mean', 'std', 'min', 'max', 'median'\n",
    "]).reset_index()\n",
    "store_stats.columns = ['Store', 'Store_Avg_Sales', 'Store_Std_Sales', \n",
    "                      'Store_Min_Sales', 'Store_Max_Sales', 'Store_Median_Sales']\n",
    "\n",
    "# Store coefficient of variation\n",
    "store_stats['Store_CV'] = store_stats['Store_Std_Sales'] / store_stats['Store_Avg_Sales']\n",
    "\n",
    "# Store size per square foot sales\n",
    "store_stats = store_stats.merge(stores_df, on='Store')\n",
    "store_stats['Sales_Per_SqFt'] = store_stats['Store_Avg_Sales'] / store_stats['Size']\n",
    "\n",
    "# Merge back to main dataset\n",
    "train_merged = train_merged.merge(\n",
    "    store_stats[['Store', 'Store_Avg_Sales', 'Store_Std_Sales', 'Store_CV', 'Sales_Per_SqFt']], \n",
    "    on='Store', \n",
    "    how='left'\n",
    ")\n",
    "\n",
    "print(f\"Store features created. Dataset shape: {train_merged.shape}\")"
   ]
  },
  {
   "cell_type": "code",
   "execution_count": 30,
   "metadata": {},
   "outputs": [
    {
     "name": "stdout",
     "output_type": "stream",
     "text": [
      "Department features created. Dataset shape: (421570, 72)\n"
     ]
    }
   ],
   "source": [
    "# Department-level features\n",
    "dept_stats = train_merged.groupby('Dept')['Weekly_Sales'].agg([\n",
    "    'mean', 'std', 'min', 'max', 'median', 'count'\n",
    "]).reset_index()\n",
    "dept_stats.columns = ['Dept', 'Dept_Avg_Sales', 'Dept_Std_Sales', \n",
    "                     'Dept_Min_Sales', 'Dept_Max_Sales', 'Dept_Median_Sales', 'Dept_Record_Count']\n",
    "\n",
    "# Department coefficient of variation\n",
    "dept_stats['Dept_CV'] = dept_stats['Dept_Std_Sales'] / dept_stats['Dept_Avg_Sales']\n",
    "\n",
    "# Department seasonality (variance across months)\n",
    "dept_seasonality = train_merged.groupby(['Dept', 'Month'])['Weekly_Sales'].mean().reset_index()\n",
    "dept_seasonality_var = dept_seasonality.groupby('Dept')['Weekly_Sales'].var().reset_index()\n",
    "dept_seasonality_var.columns = ['Dept', 'Dept_Seasonal_Variance']\n",
    "\n",
    "# Merge department features\n",
    "dept_stats = dept_stats.merge(dept_seasonality_var, on='Dept')\n",
    "\n",
    "train_merged = train_merged.merge(\n",
    "    dept_stats[['Dept', 'Dept_Avg_Sales', 'Dept_Std_Sales', 'Dept_CV', 'Dept_Seasonal_Variance']], \n",
    "    on='Dept', \n",
    "    how='left'\n",
    ")\n",
    "\n",
    "print(f\"Department features created. Dataset shape: {train_merged.shape}\")"
   ]
  },
  {
   "cell_type": "markdown",
   "metadata": {},
   "source": [
    "## 6. External Feature Engineering"
   ]
  },
  {
   "cell_type": "code",
   "execution_count": 31,
   "metadata": {},
   "outputs": [
    {
     "name": "stdout",
     "output_type": "stream",
     "text": [
      "Engineering external features...\n",
      "External features created. Dataset shape: (421570, 81)\n"
     ]
    }
   ],
   "source": [
    "# External feature engineering\n",
    "print(\"Engineering external features...\")\n",
    "\n",
    "# Temperature features\n",
    "if 'Temperature' in train_merged.columns:\n",
    "    # Temperature categories\n",
    "    train_merged['Temp_Category'] = pd.cut(train_merged['Temperature'], \n",
    "                                          bins=[-np.inf, 32, 50, 70, 85, np.inf], \n",
    "                                          labels=['Freezing', 'Cold', 'Cool', 'Warm', 'Hot'])\n",
    "    \n",
    "    # Temperature change from previous week\n",
    "    train_merged['Temp_Change'] = train_merged.groupby('Store')['Temperature'].diff()\n",
    "    \n",
    "    # Seasonal temperature deviation\n",
    "    monthly_temp_avg = train_merged.groupby(['Store', 'Month'])['Temperature'].mean().reset_index()\n",
    "    monthly_temp_avg.columns = ['Store', 'Month', 'Monthly_Avg_Temp']\n",
    "    train_merged = train_merged.merge(monthly_temp_avg, on=['Store', 'Month'], how='left')\n",
    "    train_merged['Temp_Deviation'] = train_merged['Temperature'] - train_merged['Monthly_Avg_Temp']\n",
    "\n",
    "# Fuel price features\n",
    "if 'Fuel_Price' in train_merged.columns:\n",
    "    # Fuel price change\n",
    "    train_merged['Fuel_Price_Change'] = train_merged.groupby('Store')['Fuel_Price'].diff()\n",
    "    \n",
    "    # Fuel price volatility (rolling std)\n",
    "    train_merged['Fuel_Price_Volatility'] = train_merged.groupby('Store')['Fuel_Price'].transform(\n",
    "        lambda x: x.rolling(window=4, min_periods=1).std()\n",
    "    )\n",
    "\n",
    "# Economic indicators\n",
    "if 'CPI' in train_merged.columns:\n",
    "    # CPI change (inflation indicator)\n",
    "    train_merged['CPI_Change'] = train_merged.groupby('Store')['CPI'].diff()\n",
    "    \n",
    "if 'Unemployment' in train_merged.columns:\n",
    "    # Unemployment change\n",
    "    train_merged['Unemployment_Change'] = train_merged.groupby('Store')['Unemployment'].diff()\n",
    "    \n",
    "    # Unemployment category\n",
    "    train_merged['Unemployment_Category'] = pd.cut(train_merged['Unemployment'], \n",
    "                                                  bins=[0, 5, 7.5, 10, np.inf], \n",
    "                                                  labels=['Low', 'Medium', 'High', 'Very_High'])\n",
    "\n",
    "print(f\"External features created. Dataset shape: {train_merged.shape}\")"
   ]
  },
  {
   "cell_type": "markdown",
   "metadata": {},
   "source": [
    "## 7. Interaction and Advanced Features"
   ]
  },
  {
   "cell_type": "code",
   "execution_count": 32,
   "metadata": {},
   "outputs": [
    {
     "name": "stdout",
     "output_type": "stream",
     "text": [
      "Creating interaction and advanced features...\n",
      "Interaction features created. Dataset shape: (421570, 87)\n"
     ]
    }
   ],
   "source": [
    "# Create interaction features\n",
    "print(\"Creating interaction and advanced features...\")\n",
    "\n",
    "# Store-Department interaction\n",
    "train_merged['Store_Dept_ID'] = train_merged['Store'].astype(str) + '_' + train_merged['Dept'].astype(str)\n",
    "\n",
    "# Store type and size interaction\n",
    "train_merged['Type_Size_Interaction'] = train_merged['Type'] + '_' + pd.cut(train_merged['Size'], \n",
    "                                                                           bins=3, \n",
    "                                                                           labels=['Small', 'Medium', 'Large']).astype(str)\n",
    "\n",
    "# Holiday and store type interaction\n",
    "train_merged['Holiday_Type_Interaction'] = train_merged['Holiday_Type'] + '_' + train_merged['Type']\n",
    "\n",
    "# Seasonal department performance\n",
    "train_merged['Dept_Quarter_ID'] = train_merged['Dept'].astype(str) + '_Q' + train_merged['Quarter'].astype(str)\n",
    "\n",
    "# Sales momentum (current vs recent average)\n",
    "if 'Sales_Rolling_Mean_4' in train_merged.columns:\n",
    "    train_merged['Sales_Momentum'] = train_merged['Weekly_Sales'] / (train_merged['Sales_Rolling_Mean_4'] + 1)\n",
    "\n",
    "# Sales volatility indicator\n",
    "if 'Sales_Rolling_Std_4' in train_merged.columns and 'Sales_Rolling_Mean_4' in train_merged.columns:\n",
    "    train_merged['Sales_Volatility'] = train_merged['Sales_Rolling_Std_4'] / (train_merged['Sales_Rolling_Mean_4'] + 1)\n",
    "\n",
    "print(f\"Interaction features created. Dataset shape: {train_merged.shape}\")"
   ]
  },
  {
   "cell_type": "markdown",
   "metadata": {},
   "source": [
    "## 8. Feature Encoding and Preprocessing"
   ]
  },
  {
   "cell_type": "code",
   "execution_count": 33,
   "metadata": {},
   "outputs": [
    {
     "name": "stdout",
     "output_type": "stream",
     "text": [
      "Encoding categorical features...\n",
      "Label encoded Type: 3 categories\n",
      "Label encoded Holiday_Type: 7 categories\n",
      "Label encoded Temp_Category: 5 categories\n",
      "Label encoded Unemployment_Category: 4 categories\n",
      "Frequency and target encoded Store_Dept_ID: 3331 unique values\n",
      "Frequency and target encoded Type_Size_Interaction: 6 unique values\n",
      "Frequency and target encoded Holiday_Type_Interaction: 21 unique values\n",
      "Frequency and target encoded Dept_Quarter_ID: 324 unique values\n",
      "Feature encoding completed. Dataset shape: (421570, 99)\n"
     ]
    }
   ],
   "source": [
    "# Encode categorical features\n",
    "print(\"Encoding categorical features...\")\n",
    "\n",
    "# Label encoding for ordinal features\n",
    "label_encoders = {}\n",
    "ordinal_features = ['Type', 'Holiday_Type', 'Temp_Category', 'Unemployment_Category']\n",
    "\n",
    "for feature in ordinal_features:\n",
    "    if feature in train_merged.columns:\n",
    "        le = LabelEncoder()\n",
    "        train_merged[f'{feature}_encoded'] = le.fit_transform(train_merged[feature].astype(str))\n",
    "        label_encoders[feature] = le\n",
    "        print(f\"Label encoded {feature}: {len(le.classes_)} categories\")\n",
    "\n",
    "# One-hot encoding for nominal features (if needed)\n",
    "nominal_features = ['Store_Dept_ID', 'Type_Size_Interaction', 'Holiday_Type_Interaction', 'Dept_Quarter_ID']\n",
    "\n",
    "# For high cardinality features, we'll use target encoding or frequency encoding instead of one-hot\n",
    "for feature in nominal_features:\n",
    "    if feature in train_merged.columns:\n",
    "        # Frequency encoding\n",
    "        freq_map = train_merged[feature].value_counts().to_dict()\n",
    "        train_merged[f'{feature}_freq'] = train_merged[feature].map(freq_map)\n",
    "        \n",
    "        # Target encoding (mean sales by category)\n",
    "        target_map = train_merged.groupby(feature)['Weekly_Sales'].mean().to_dict()\n",
    "        train_merged[f'{feature}_target_enc'] = train_merged[feature].map(target_map)\n",
    "        \n",
    "        print(f\"Frequency and target encoded {feature}: {train_merged[feature].nunique()} unique values\")\n",
    "\n",
    "print(f\"Feature encoding completed. Dataset shape: {train_merged.shape}\")"
   ]
  },
  {
   "cell_type": "markdown",
   "metadata": {},
   "source": [
    "## 9. Feature Selection and Validation"
   ]
  },
  {
   "cell_type": "code",
   "execution_count": 34,
   "metadata": {},
   "outputs": [
    {
     "name": "stdout",
     "output_type": "stream",
     "text": [
      "Validating features...\n",
      "Found and handled infinite values in: ['Sales_Momentum', 'Sales_Volatility']\n",
      "\n",
      "Remaining missing values:\n",
      "Sales_Lag_1: 3331 (0.79%)\n",
      "Store_Sales_Lag_1: 2955 (0.70%)\n",
      "Sales_Lag_2: 6625 (1.57%)\n",
      "Store_Sales_Lag_2: 5911 (1.40%)\n",
      "Sales_Lag_4: 13134 (3.12%)\n",
      "Store_Sales_Lag_4: 11839 (2.81%)\n",
      "Sales_Lag_8: 25966 (6.16%)\n",
      "Store_Sales_Lag_8: 23627 (5.60%)\n",
      "Sales_Lag_12: 38615 (9.16%)\n",
      "Store_Sales_Lag_12: 35404 (8.40%)\n",
      "Sales_Lag_26: 81918 (19.43%)\n",
      "Store_Sales_Lag_26: 76218 (18.08%)\n",
      "Sales_Rolling_Std_4: 3331 (0.79%)\n",
      "Sales_Rolling_Std_8: 3331 (0.79%)\n",
      "Sales_Rolling_Std_12: 3331 (0.79%)\n",
      "Sales_Rolling_Std_26: 3331 (0.79%)\n",
      "Temp_Change: 45 (0.01%)\n",
      "Fuel_Price_Change: 45 (0.01%)\n",
      "Fuel_Price_Volatility: 45 (0.01%)\n",
      "CPI_Change: 45 (0.01%)\n",
      "Unemployment_Change: 45 (0.01%)\n",
      "Sales_Momentum: 4 (0.00%)\n",
      "Sales_Volatility: 3334 (0.79%)\n",
      "Filled Sales_Lag_1 with median: 7625.99\n",
      "Filled Store_Sales_Lag_1 with median: 1010326.14\n",
      "Filled Sales_Lag_2 with median: 7639.58\n",
      "Filled Store_Sales_Lag_2 with median: 1010711.08\n",
      "Filled Sales_Lag_4 with median: 7663.51\n",
      "Filled Store_Sales_Lag_4 with median: 1010711.08\n",
      "Filled Sales_Lag_8 with median: 7720.835\n",
      "Filled Store_Sales_Lag_8 with median: 1012075.12\n",
      "Filled Sales_Lag_12 with median: 7754.0\n",
      "Filled Store_Sales_Lag_12 with median: 1011822.3\n",
      "Filled Sales_Lag_26 with median: 7864.31\n",
      "Filled Store_Sales_Lag_26 with median: 1009206.33\n",
      "Filled Sales_Rolling_Std_4 with median: 754.4413784383808\n",
      "Filled Sales_Rolling_Std_8 with median: 981.4488592163775\n",
      "Filled Sales_Rolling_Std_12 with median: 1121.3462211461601\n",
      "Filled Sales_Rolling_Std_26 with median: 1438.1761619855672\n",
      "Filled Temp_Change with median: 0.23000000000000398\n",
      "Filled Fuel_Price_Change with median: 0.004999999999999893\n",
      "Filled Fuel_Price_Volatility with median: 0.04832097543169811\n",
      "Filled CPI_Change with median: 0.05374100000000226\n",
      "Filled Unemployment_Change with median: 0.0\n",
      "Filled Sales_Momentum with median: 0.9950104561364723\n",
      "Filled Sales_Volatility with median: 0.1161103557331514\n",
      "\n",
      "Analyzing feature correlations...\n",
      "\n",
      "Top 15 features correlated with Weekly_Sales:\n",
      "Weekly_Sales                1.000000\n",
      "Sales_EWM_4                 0.986037\n",
      "Sales_Rolling_Mean_4        0.975797\n",
      "Sales_EWM_8                 0.975585\n",
      "Sales_EWM_12                0.969812\n",
      "Sales_Rolling_Min_4         0.967216\n",
      "Sales_Rolling_Mean_8        0.964756\n",
      "Sales_EWM_26                0.961009\n",
      "Sales_Rolling_Mean_12       0.959370\n",
      "Sales_Rolling_Min_8         0.953975\n",
      "Sales_Rolling_Mean_26       0.951452\n",
      "Store_Dept_ID_target_enc    0.950389\n",
      "Sales_Rolling_Min_12        0.947727\n",
      "Sales_Lag_1                 0.944993\n",
      "Sales_Rolling_Max_4         0.944270\n",
      "Name: Weekly_Sales, dtype: float64\n"
     ]
    }
   ],
   "source": [
    "# Feature validation and selection\n",
    "print(\"Validating features...\")\n",
    "\n",
    "# Check for infinite values\n",
    "numeric_cols = train_merged.select_dtypes(include=[np.number]).columns\n",
    "inf_cols = []\n",
    "for col in numeric_cols:\n",
    "    if np.isinf(train_merged[col]).any():\n",
    "        inf_cols.append(col)\n",
    "        train_merged[col] = train_merged[col].replace([np.inf, -np.inf], np.nan)\n",
    "\n",
    "if inf_cols:\n",
    "    print(f\"Found and handled infinite values in: {inf_cols}\")\n",
    "\n",
    "# Check for remaining missing values\n",
    "missing_after_fe = train_merged.isnull().sum()\n",
    "missing_cols = missing_after_fe[missing_after_fe > 0]\n",
    "if len(missing_cols) > 0:\n",
    "    print(f\"\\nRemaining missing values:\")\n",
    "    for col, count in missing_cols.items():\n",
    "        print(f\"{col}: {count} ({count/len(train_merged)*100:.2f}%)\")\n",
    "    \n",
    "    # Fill remaining missing values with median for numeric columns\n",
    "    for col in missing_cols.index:\n",
    "        if train_merged[col].dtype in ['float64', 'int64']:\n",
    "            median_val = train_merged[col].median()\n",
    "            train_merged[col] = train_merged[col].fillna(median_val)\n",
    "            print(f\"Filled {col} with median: {median_val}\")\n",
    "else:\n",
    "    print(\"No missing values found after feature engineering!\")\n",
    "\n",
    "# Feature correlation analysis\n",
    "print(\"\\nAnalyzing feature correlations...\")\n",
    "correlation_with_target = train_merged[numeric_cols].corr()['Weekly_Sales'].abs().sort_values(ascending=False)\n",
    "print(\"\\nTop 15 features correlated with Weekly_Sales:\")\n",
    "print(correlation_with_target.head(15))"
   ]
  },
  {
   "cell_type": "code",
   "execution_count": 35,
   "metadata": {},
   "outputs": [
    {
     "data": {
      "image/png": "[encoded data removed]",
      "text/plain": [
       "<Figure size 1200x800 with 2 Axes>"
      ]
     },
     "metadata": {},
     "output_type": "display_data"
    },
    {
     "name": "stdout",
     "output_type": "stream",
     "text": [
      "\n",
      "Feature type breakdown:\n",
      "Temporal: 26 features\n",
      "Lag: 12 features\n",
      "Rolling: 20 features\n",
      "Store: 13 features\n",
      "Department: 11 features\n",
      "External: 20 features\n",
      "Interaction: 9 features\n",
      "Other: 5 features\n",
      "Total features: 99\n"
     ]
    }
   ],
   "source": [
    "# Feature importance visualization\n",
    "plt.figure(figsize=(12, 8))\n",
    "\n",
    "# Top correlations with target\n",
    "top_features = correlation_with_target.head(20).drop('Weekly_Sales')\n",
    "plt.subplot(2, 1, 1)\n",
    "top_features.plot(kind='barh')\n",
    "plt.title('Top 20 Features by Correlation with Weekly Sales')\n",
    "plt.xlabel('Absolute Correlation')\n",
    "\n",
    "# Feature distribution\n",
    "plt.subplot(2, 1, 2)\n",
    "feature_types = {\n",
    "    'Temporal': len([col for col in train_merged.columns if any(x in col.lower() for x in ['year', 'month', 'week', 'quarter', 'day', 'sin', 'cos', 'holiday'])]),\n",
    "    'Lag': len([col for col in train_merged.columns if 'lag' in col.lower()]),\n",
    "    'Rolling': len([col for col in train_merged.columns if any(x in col.lower() for x in ['rolling', 'ewm'])]),\n",
    "    'Store': len([col for col in train_merged.columns if 'store' in col.lower()]),\n",
    "    'Department': len([col for col in train_merged.columns if 'dept' in col.lower()]),\n",
    "    'External': len([col for col in train_merged.columns if any(x in col.lower() for x in ['temp', 'fuel', 'cpi', 'unemployment', 'markdown'])]),\n",
    "    'Interaction': len([col for col in train_merged.columns if any(x in col.lower() for x in ['interaction', 'momentum', 'volatility'])]),\n",
    "    'Other': len([col for col in train_merged.columns if not any(keyword in col.lower() for keyword in ['year', 'month', 'week', 'quarter', 'day', 'sin', 'cos', 'holiday', 'lag', 'rolling', 'ewm', 'store', 'dept', 'temp', 'fuel', 'cpi', 'unemployment', 'markdown', 'interaction', 'momentum', 'volatility'])])\n",
    "}\n",
    "\n",
    "plt.pie(feature_types.values(), labels=feature_types.keys(), autopct='%1.1f%%')\n",
    "plt.title('Feature Distribution by Type')\n",
    "\n",
    "plt.tight_layout()\n",
    "plt.show()\n",
    "\n",
    "print(f\"\\nFeature type breakdown:\")\n",
    "for ftype, count in feature_types.items():\n",
    "    print(f\"{ftype}: {count} features\")\n",
    "print(f\"Total features: {len(train_merged.columns)}\")"
   ]
  },
  {
   "cell_type": "markdown",
   "metadata": {},
   "source": [
    "## 10. Data Export and Summary"
   ]
  },
  {
   "cell_type": "code",
   "execution_count": 36,
   "metadata": {},
   "outputs": [
    {
     "name": "stdout",
     "output_type": "stream",
     "text": [
      "Preparing final dataset for modeling...\n",
      "\n",
      "Final dataset summary:\n",
      "Total records: 421,570\n",
      "Total features: 89\n",
      "Date range: 2010-02-05 00:00:00 to 2012-10-26 00:00:00\n",
      "Stores: 45\n",
      "Departments: 81\n"
     ]
    },
    {
     "name": "stdout",
     "output_type": "stream",
     "text": [
      "\n",
      "Processed dataset saved to: ../data/processed/train_processed.csv\n",
      "Feature list saved to: ../data/processed/feature_list.txt\n",
      "Label encoders saved to: ../data/processed/label_encoders.pkl\n",
      "Feature engineering metadata saved to: ../data/processed/feature_engineering_metadata.json\n"
     ]
    }
   ],
   "source": [
    "# Prepare final dataset\n",
    "print(\"Preparing final dataset for modeling...\")\n",
    "\n",
    "# Create feature list for modeling (exclude non-predictive columns)\n",
    "exclude_cols = ['Date', 'Weekly_Sales']  # Target and date\n",
    "categorical_cols = ['Type', 'Holiday_Type', 'Temp_Category', 'Unemployment_Category', \n",
    "                   'Store_Dept_ID', 'Type_Size_Interaction', 'Holiday_Type_Interaction', 'Dept_Quarter_ID']\n",
    "exclude_cols.extend(categorical_cols)  # Exclude original categorical columns (keep encoded versions)\n",
    "\n",
    "feature_cols = [col for col in train_merged.columns if col not in exclude_cols]\n",
    "\n",
    "print(f\"\\nFinal dataset summary:\")\n",
    "print(f\"Total records: {len(train_merged):,}\")\n",
    "print(f\"Total features: {len(feature_cols)}\")\n",
    "print(f\"Date range: {train_merged['Date'].min()} to {train_merged['Date'].max()}\")\n",
    "print(f\"Stores: {train_merged['Store'].nunique()}\")\n",
    "print(f\"Departments: {train_merged['Dept'].nunique()}\")\n",
    "\n",
    "# Ensure processed data directory exists\n",
    "os.makedirs('../data/processed', exist_ok=True)\n",
    "\n",
    "# Save processed dataset\n",
    "output_path = '../data/processed/train_processed.csv'\n",
    "train_merged.to_csv(output_path, index=False)\n",
    "print(f\"\\nProcessed dataset saved to: {output_path}\")\n",
    "\n",
    "# Save feature list\n",
    "feature_list_path = '../data/processed/feature_list.txt'\n",
    "with open(feature_list_path, 'w') as f:\n",
    "    for feature in feature_cols:\n",
    "        f.write(f\"{feature}\\n\")\n",
    "print(f\"Feature list saved to: {feature_list_path}\")\n",
    "\n",
    "# Save label encoders for future use\n",
    "import pickle\n",
    "encoders_path = '../data/processed/label_encoders.pkl'\n",
    "with open(encoders_path, 'wb') as f:\n",
    "    pickle.dump(label_encoders, f)\n",
    "print(f\"Label encoders saved to: {encoders_path}\")\n",
    "\n",
    "# Save feature engineering metadata\n",
    "metadata = {\n",
    "    'creation_date': datetime.now().isoformat(),\n",
    "    'total_features': len(feature_cols),\n",
    "    'total_records': len(train_merged),\n",
    "    'date_range': [str(train_merged['Date'].min()), str(train_merged['Date'].max())],\n",
    "    'stores': train_merged['Store'].nunique(),\n",
    "    'departments': train_merged['Dept'].nunique(),\n",
    "    'feature_types': feature_types\n",
    "}\n",
    "\n",
    "import json\n",
    "metadata_path = '../data/processed/feature_engineering_metadata.json'\n",
    "with open(metadata_path, 'w') as f:\n",
    "    json.dump(metadata, f, indent=2)\n",
    "print(f\"Feature engineering metadata saved to: {metadata_path}\")"
   ]
  },
  {
   "cell_type": "code",
   "execution_count": 37,
   "metadata": {},
   "outputs": [
    {
     "name": "stdout",
     "output_type": "stream",
     "text": [
      "\n",
      "============================================================\n",
      "FEATURE ENGINEERING SUMMARY\n",
      "============================================================\n",
      "\n",
      "📊 Dataset Transformation:\n",
      "   • Original train dataset: (421570, 5)\n",
      "   • Final processed dataset: (421570, 99)\n",
      "   • Features added: 94\n",
      "\n",
      "🔧 Feature Categories Created:\n",
      "   • Temporal: 26 features\n",
      "   • Lag: 12 features\n",
      "   • Rolling: 20 features\n",
      "   • Store: 13 features\n",
      "   • Department: 11 features\n",
      "   • External: 20 features\n",
      "   • Interaction: 9 features\n",
      "   • Other: 5 features\n",
      "\n",
      "📈 Key Features for Modeling:\n",
      "   • Total modeling features: 89\n",
      "   • Numerical features: 79\n",
      "   • Categorical features: 0\n",
      "\n",
      "✅ Data Quality:\n",
      "   • Missing values: 0\n",
      "   • Infinite values: Handled\n",
      "   • Data types: Validated\n",
      "\n",
      "🎯 Ready for Modeling:\n",
      "   • Processed dataset: ../data/processed/train_processed.csv\n",
      "   • Feature list: ../data/processed/feature_list.txt\n",
      "   • Label encoders: ../data/processed/label_encoders.pkl\n",
      "\n",
      "============================================================\n",
      "Feature engineering completed successfully!\n",
      "Ready to proceed with baseline modeling.\n",
      "============================================================\n"
     ]
    }
   ],
   "source": [
    "# Feature engineering summary\n",
    "print(\"\\n\" + \"=\"*60)\n",
    "print(\"FEATURE ENGINEERING SUMMARY\")\n",
    "print(\"=\"*60)\n",
    "\n",
    "print(f\"\\n📊 Dataset Transformation:\")\n",
    "print(f\"   • Original train dataset: {train_df.shape}\")\n",
    "print(f\"   • Final processed dataset: {train_merged.shape}\")\n",
    "print(f\"   • Features added: {train_merged.shape[1] - train_df.shape[1]}\")\n",
    "\n",
    "print(f\"\\n🔧 Feature Categories Created:\")\n",
    "for ftype, count in feature_types.items():\n",
    "    print(f\"   • {ftype}: {count} features\")\n",
    "\n",
    "print(f\"\\n📈 Key Features for Modeling:\")\n",
    "print(f\"   • Total modeling features: {len(feature_cols)}\")\n",
    "print(f\"   • Numerical features: {len([col for col in feature_cols if train_merged[col].dtype in ['float64', 'int64']])}\")\n",
    "print(f\"   • Categorical features: {len([col for col in feature_cols if train_merged[col].dtype == 'object'])}\")\n",
    "\n",
    "print(f\"\\n✅ Data Quality:\")\n",
    "print(f\"   • Missing values: {train_merged[feature_cols].isnull().sum().sum()}\")\n",
    "print(f\"   • Infinite values: Handled\")\n",
    "print(f\"   • Data types: Validated\")\n",
    "\n",
    "print(f\"\\n🎯 Ready for Modeling:\")\n",
    "print(f\"   • Processed dataset: {output_path}\")\n",
    "print(f\"   • Feature list: {feature_list_path}\")\n",
    "print(f\"   • Label encoders: {encoders_path}\")\n",
    "\n",
    "print(\"\\n\" + \"=\"*60)\n",
    "print(\"Feature engineering completed successfully!\")\n",
    "print(\"Ready to proceed with baseline modeling.\")\n",
    "print(\"=\"*60)"
   ]
  }
 ],
 "metadata": {
  "kernelspec": {
   "display_name": ".venv",
   "language": "python",
   "name": "python3"
  },
  "language_info": {
   "codemirror_mode": {
    "name": "ipython",
    "version": 3
   },
   "file_extension": ".py",
   "mimetype": "text/x-python",
   "name": "python",
   "nbconvert_exporter": "python",
   "pygments_lexer": "ipython3",
   "version": "3.13.5"
  }
 },
 "nbformat": 4,
 "nbformat_minor": 4
}
